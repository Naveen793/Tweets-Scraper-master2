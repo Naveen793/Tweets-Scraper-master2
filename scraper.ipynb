{
 "cells": [
  {
   "cell_type": "code",
   "execution_count": 150,
   "metadata": {},
   "outputs": [],
   "source": [
    "# Import Libraries\n",
    "\n",
    "import re\n",
    "import csv\n",
    "from getpass import getpass\n",
    "from time import sleep\n",
    "from selenium.webdriver.common.keys import Keys\n",
    "from selenium.webdriver.common.by import By\n",
    "from selenium.common.exceptions import NoSuchElementException\n"
   ]
  },
  {
   "cell_type": "code",
   "execution_count": 151,
   "metadata": {},
   "outputs": [],
   "source": [
    "# Library for different Browsers\n",
    "\n",
    "# Firefox\n",
    "#from selenium.webdriver import Firefox\n",
    "\n",
    "# Google Chrome\n",
    "from selenium.webdriver import Chrome\n",
    "\n",
    "# Microsoft Edge\n",
    "# from msedge.selenium_tools import Edge, EdgeOptions\n"
   ]
  },
  {
   "cell_type": "code",
   "execution_count": 152,
   "metadata": {},
   "outputs": [],
   "source": [
    "# Driver for different Browsers\n",
    "\n",
    "# Firefox\n",
    "#driver = Firefox()\n",
    "\n",
    "# Google Chrome\n",
    "driver = Chrome()\n",
    "\n",
    "# Microsoft Edge\n",
    "# options = EdgeOptions()\n",
    "# options.use_chromium = True\n",
    "# driver = Edge(options=options)\n"
   ]
  },
  {
   "cell_type": "code",
   "execution_count": 153,
   "metadata": {},
   "outputs": [],
   "source": [
    "driver.get(url=\"https://twitter.com/i/flow/login\")\n",
    "\n",
    "your_name = \"@NaveenV45395753\"\n",
    "your_pass = \"Bunnynav2005\"\n",
    "sleep(5)\n"
   ]
  },
  {
   "cell_type": "code",
   "execution_count": 154,
   "metadata": {},
   "outputs": [],
   "source": [
    "username = driver.find_element(By.XPATH, \"//*[@id='layers']/div/div/div/div/div/div/div[2]/div[2]/div/div/div[2]/div[2]/div/div/div/div[5]/label/div/div[2]/div/input\")\n",
    "username.send_keys(your_name)\n",
    "username.send_keys(Keys.RETURN)\n",
    "sleep(5)\n"
   ]
  },
  {
   "cell_type": "code",
   "execution_count": 155,
   "metadata": {},
   "outputs": [],
   "source": [
    "ok_btn = driver.find_element(By.XPATH, \"//*[@id='layers']/div/div/div/div/div/div/div[2]/div[2]/div/div/div[2]/div[2]/div[1]/div/div/div[3]/div/label/div/div[2]/div[1]/input\")\n",
    "sleep(5)\n",
    "ok_btn.click()\n"
   ]
  },
  {
   "cell_type": "code",
   "execution_count": 156,
   "metadata": {},
   "outputs": [],
   "source": [
    "# If recapcha appears we have to manually solve it\n",
    "# Manually Solve Recaptcha\n"
   ]
  },
  {
   "cell_type": "code",
   "execution_count": 157,
   "metadata": {},
   "outputs": [],
   "source": [
    "password = driver.find_element(By.XPATH, '//input[@name=\"password\"]')\n",
    "password.send_keys(your_pass)\n",
    "password.send_keys(Keys.RETURN)\n",
    "sleep(3)\n"
   ]
  },
  {
   "cell_type": "code",
   "execution_count": 158,
   "metadata": {},
   "outputs": [],
   "source": [
    "search = driver.find_element(\n",
    "    By.XPATH, './/input[@data-testid=\"SearchBox_Search_Input\"]')\n",
    "search.send_keys(\"@apecoin #100X\")\n",
    "search.send_keys(Keys.RETURN)\n"
   ]
  },
  {
   "cell_type": "code",
   "execution_count": 159,
   "metadata": {},
   "outputs": [],
   "source": [
    "#bbc_profile = driver.find_element(By.LINK_TEXT, 'BBC News Bangla')\n",
    "#bbc_profile.click()\n"
   ]
  },
  {
   "cell_type": "code",
   "execution_count": 160,
   "metadata": {},
   "outputs": [
    {
     "ename": "StaleElementReferenceException",
     "evalue": "Message: stale element reference: stale element not found\n  (Session info: chrome=114.0.5735.134); For documentation on this error, please visit: https://www.selenium.dev/documentation/webdriver/troubleshooting/errors#stale-element-reference-exception\nStacktrace:\nBacktrace:\n\tGetHandleVerifier [0x009FA813+48355]\n\t(No symbol) [0x0098C4B1]\n\t(No symbol) [0x00895358]\n\t(No symbol) [0x008987A1]\n\t(No symbol) [0x008999E1]\n\t(No symbol) [0x00899A80]\n\t(No symbol) [0x008C061C]\n\t(No symbol) [0x008C0B3B]\n\t(No symbol) [0x008B9AE1]\n\t(No symbol) [0x008DA784]\n\t(No symbol) [0x008B9A36]\n\t(No symbol) [0x008DAA94]\n\t(No symbol) [0x008EC922]\n\t(No symbol) [0x008DA536]\n\t(No symbol) [0x008B82DC]\n\t(No symbol) [0x008B93DD]\n\tGetHandleVerifier [0x00C5AABD+2539405]\n\tGetHandleVerifier [0x00C9A78F+2800735]\n\tGetHandleVerifier [0x00C9456C+2775612]\n\tGetHandleVerifier [0x00A851E0+616112]\n\t(No symbol) [0x00995F8C]\n\t(No symbol) [0x00992328]\n\t(No symbol) [0x0099240B]\n\t(No symbol) [0x00984FF7]\n\tBaseThreadInitThunk [0x765F7D59+25]\n\tRtlInitializeExceptionChain [0x77B0B74B+107]\n\tRtlClearBits [0x77B0B6CF+191]\n",
     "output_type": "error",
     "traceback": [
      "\u001b[1;31m---------------------------------------------------------------------------\u001b[0m",
      "\u001b[1;31mStaleElementReferenceException\u001b[0m            Traceback (most recent call last)",
      "Cell \u001b[1;32mIn[160], line 17\u001b[0m\n\u001b[0;32m     13\u001b[0m \u001b[39mfor\u001b[39;00m tweet \u001b[39min\u001b[39;00m tweets:\n\u001b[0;32m     14\u001b[0m     ass\u001b[39m+\u001b[39m\u001b[39m=\u001b[39m\u001b[39m1\u001b[39m\n\u001b[1;32m---> 17\u001b[0m     post_time \u001b[39m=\u001b[39m tweet\u001b[39m.\u001b[39;49mfind_element(\n\u001b[0;32m     18\u001b[0m         By\u001b[39m.\u001b[39;49mXPATH, \u001b[39m\"\u001b[39;49m\u001b[39m//time\u001b[39;49m\u001b[39m\"\u001b[39;49m)\u001b[39m.\u001b[39mget_attribute(\u001b[39m'\u001b[39m\u001b[39mdatetime\u001b[39m\u001b[39m'\u001b[39m)\n\u001b[0;32m     19\u001b[0m     post_times\u001b[39m.\u001b[39mappend(post_time)\n\u001b[0;32m     21\u001b[0m     post_text \u001b[39m=\u001b[39m tweet\u001b[39m.\u001b[39mfind_element(\n\u001b[0;32m     22\u001b[0m         By\u001b[39m.\u001b[39mXPATH, \u001b[39m'\u001b[39m\u001b[39m//div[@data-testid=\u001b[39m\u001b[39m\"\u001b[39m\u001b[39mtweetText\u001b[39m\u001b[39m\"\u001b[39m\u001b[39m]\u001b[39m\u001b[39m'\u001b[39m)\u001b[39m.\u001b[39mtext\n",
      "File \u001b[1;32mc:\\Users\\vemun\\AppData\\Local\\Programs\\Python\\Python311\\Lib\\site-packages\\selenium\\webdriver\\remote\\webelement.py:417\u001b[0m, in \u001b[0;36mWebElement.find_element\u001b[1;34m(self, by, value)\u001b[0m\n\u001b[0;32m    414\u001b[0m     by \u001b[39m=\u001b[39m By\u001b[39m.\u001b[39mCSS_SELECTOR\n\u001b[0;32m    415\u001b[0m     value \u001b[39m=\u001b[39m \u001b[39mf\u001b[39m\u001b[39m'\u001b[39m\u001b[39m[name=\u001b[39m\u001b[39m\"\u001b[39m\u001b[39m{\u001b[39;00mvalue\u001b[39m}\u001b[39;00m\u001b[39m\"\u001b[39m\u001b[39m]\u001b[39m\u001b[39m'\u001b[39m\n\u001b[1;32m--> 417\u001b[0m \u001b[39mreturn\u001b[39;00m \u001b[39mself\u001b[39;49m\u001b[39m.\u001b[39;49m_execute(Command\u001b[39m.\u001b[39;49mFIND_CHILD_ELEMENT, {\u001b[39m\"\u001b[39;49m\u001b[39musing\u001b[39;49m\u001b[39m\"\u001b[39;49m: by, \u001b[39m\"\u001b[39;49m\u001b[39mvalue\u001b[39;49m\u001b[39m\"\u001b[39;49m: value})[\u001b[39m\"\u001b[39m\u001b[39mvalue\u001b[39m\u001b[39m\"\u001b[39m]\n",
      "File \u001b[1;32mc:\\Users\\vemun\\AppData\\Local\\Programs\\Python\\Python311\\Lib\\site-packages\\selenium\\webdriver\\remote\\webelement.py:395\u001b[0m, in \u001b[0;36mWebElement._execute\u001b[1;34m(self, command, params)\u001b[0m\n\u001b[0;32m    393\u001b[0m     params \u001b[39m=\u001b[39m {}\n\u001b[0;32m    394\u001b[0m params[\u001b[39m\"\u001b[39m\u001b[39mid\u001b[39m\u001b[39m\"\u001b[39m] \u001b[39m=\u001b[39m \u001b[39mself\u001b[39m\u001b[39m.\u001b[39m_id\n\u001b[1;32m--> 395\u001b[0m \u001b[39mreturn\u001b[39;00m \u001b[39mself\u001b[39;49m\u001b[39m.\u001b[39;49m_parent\u001b[39m.\u001b[39;49mexecute(command, params)\n",
      "File \u001b[1;32mc:\\Users\\vemun\\AppData\\Local\\Programs\\Python\\Python311\\Lib\\site-packages\\selenium\\webdriver\\remote\\webdriver.py:346\u001b[0m, in \u001b[0;36mWebDriver.execute\u001b[1;34m(self, driver_command, params)\u001b[0m\n\u001b[0;32m    344\u001b[0m response \u001b[39m=\u001b[39m \u001b[39mself\u001b[39m\u001b[39m.\u001b[39mcommand_executor\u001b[39m.\u001b[39mexecute(driver_command, params)\n\u001b[0;32m    345\u001b[0m \u001b[39mif\u001b[39;00m response:\n\u001b[1;32m--> 346\u001b[0m     \u001b[39mself\u001b[39;49m\u001b[39m.\u001b[39;49merror_handler\u001b[39m.\u001b[39;49mcheck_response(response)\n\u001b[0;32m    347\u001b[0m     response[\u001b[39m\"\u001b[39m\u001b[39mvalue\u001b[39m\u001b[39m\"\u001b[39m] \u001b[39m=\u001b[39m \u001b[39mself\u001b[39m\u001b[39m.\u001b[39m_unwrap_value(response\u001b[39m.\u001b[39mget(\u001b[39m\"\u001b[39m\u001b[39mvalue\u001b[39m\u001b[39m\"\u001b[39m, \u001b[39mNone\u001b[39;00m))\n\u001b[0;32m    348\u001b[0m     \u001b[39mreturn\u001b[39;00m response\n",
      "File \u001b[1;32mc:\\Users\\vemun\\AppData\\Local\\Programs\\Python\\Python311\\Lib\\site-packages\\selenium\\webdriver\\remote\\errorhandler.py:245\u001b[0m, in \u001b[0;36mErrorHandler.check_response\u001b[1;34m(self, response)\u001b[0m\n\u001b[0;32m    243\u001b[0m         alert_text \u001b[39m=\u001b[39m value[\u001b[39m\"\u001b[39m\u001b[39malert\u001b[39m\u001b[39m\"\u001b[39m]\u001b[39m.\u001b[39mget(\u001b[39m\"\u001b[39m\u001b[39mtext\u001b[39m\u001b[39m\"\u001b[39m)\n\u001b[0;32m    244\u001b[0m     \u001b[39mraise\u001b[39;00m exception_class(message, screen, stacktrace, alert_text)  \u001b[39m# type: ignore[call-arg]  # mypy is not smart enough here\u001b[39;00m\n\u001b[1;32m--> 245\u001b[0m \u001b[39mraise\u001b[39;00m exception_class(message, screen, stacktrace)\n",
      "\u001b[1;31mStaleElementReferenceException\u001b[0m: Message: stale element reference: stale element not found\n  (Session info: chrome=114.0.5735.134); For documentation on this error, please visit: https://www.selenium.dev/documentation/webdriver/troubleshooting/errors#stale-element-reference-exception\nStacktrace:\nBacktrace:\n\tGetHandleVerifier [0x009FA813+48355]\n\t(No symbol) [0x0098C4B1]\n\t(No symbol) [0x00895358]\n\t(No symbol) [0x008987A1]\n\t(No symbol) [0x008999E1]\n\t(No symbol) [0x00899A80]\n\t(No symbol) [0x008C061C]\n\t(No symbol) [0x008C0B3B]\n\t(No symbol) [0x008B9AE1]\n\t(No symbol) [0x008DA784]\n\t(No symbol) [0x008B9A36]\n\t(No symbol) [0x008DAA94]\n\t(No symbol) [0x008EC922]\n\t(No symbol) [0x008DA536]\n\t(No symbol) [0x008B82DC]\n\t(No symbol) [0x008B93DD]\n\tGetHandleVerifier [0x00C5AABD+2539405]\n\tGetHandleVerifier [0x00C9A78F+2800735]\n\tGetHandleVerifier [0x00C9456C+2775612]\n\tGetHandleVerifier [0x00A851E0+616112]\n\t(No symbol) [0x00995F8C]\n\t(No symbol) [0x00992328]\n\t(No symbol) [0x0099240B]\n\t(No symbol) [0x00984FF7]\n\tBaseThreadInitThunk [0x765F7D59+25]\n\tRtlInitializeExceptionChain [0x77B0B74B+107]\n\tRtlClearBits [0x77B0B6CF+191]\n"
     ]
    }
   ],
   "source": [
    "# Scrapping Tweets\n",
    "\n",
    "post_urls = []\n",
    "post_times = []\n",
    "post_texts = []\n",
    "comment_counts = []\n",
    "retweet_counts = []\n",
    "like_counts = []\n",
    "\n",
    "tweets = driver.find_elements(By.XPATH, \"//article[@data-testid='tweet']\")\n",
    "ass=1\n",
    "while True:\n",
    "    for tweet in tweets:\n",
    "        ass+=1\n",
    "       \n",
    "\n",
    "        post_time = tweet.find_element(\n",
    "            By.XPATH, \"//time\").get_attribute('datetime')\n",
    "        post_times.append(post_time)\n",
    "\n",
    "        post_text = tweet.find_element(\n",
    "            By.XPATH, '//div[@data-testid=\"tweetText\"]').text\n",
    "        post_texts.append(post_text)\n",
    "\n",
    "        comment_count = driver.find_element(\n",
    "            By.XPATH, \".//div[@data-testid='reply']\").text\n",
    "        comment_counts.append(comment_count)\n",
    "\n",
    "        retweet_count = driver.find_element(\n",
    "            By.XPATH, \".//div[@data-testid='retweet']\").text\n",
    "        retweet_counts.append(retweet_count)\n",
    "\n",
    "        like_count = driver.find_element(\n",
    "            By.XPATH, \".//div[@data-testid='like']\").text\n",
    "        like_counts.append(like_count)\n",
    "\n",
    "    driver.execute_script('window.scrollTo(0,document.body.scrollHeight);')\n",
    "    sleep(3)\n",
    "    tweets = driver.find_elements(\n",
    "        By.XPATH, \"//article[@data-testid='tweet']\")\n",
    "\n",
    "    tweet_count = len(list(set(post_time)))\n",
    "    if ass == 5:\n",
    "        break\n",
    "\n",
    "\n",
    "tweet_count"
   ]
  },
  {
   "cell_type": "code",
   "execution_count": null,
   "metadata": {},
   "outputs": [
    {
     "data": {
      "text/plain": [
       "20"
      ]
     },
     "execution_count": 24,
     "metadata": {},
     "output_type": "execute_result"
    }
   ],
   "source": [
    "unique_post_urls = list(set(post_urls))\n",
    "unique_post_times= list(set(post_times))\n",
    "unique_post_texts= list(set(post_texts))\n",
    "unique_comment_counts = list(set(comment_counts))\n",
    "unique_retweet_counts= list(set(retweet_counts))\n",
    "unique_like_counts = list(set(like_counts))\n",
    "\n",
    "len(unique_post_texts)"
   ]
  },
  {
   "cell_type": "code",
   "execution_count": null,
   "metadata": {},
   "outputs": [
    {
     "data": {
      "text/plain": [
       "['বাংলাদেশে হিন্দু সম্প্রদায়ের সবচেয়ে বড় ধর্মীয় উৎসব দুর্গাপূজায় এবার নিরাপত্তাকে সর্বোচ্চ গুরুত্ব দিয়ে শেষ পর্যায়ের প্রস্তুতি নেয়া হচ্ছে।',\n",
       " 'গত কয়েক মাসে একের পর এক যেসব নাটকীয় ঘটনা ঘটছিল, তাতে মনে হচ্ছিল, যে কোন সময় এই চুক্তি ভেস্তে যেতে পারে।',\n",
       " 'পড়শি দেশের রাজনীতিতে ভারত কীভাবে আর কতটা হস্তক্ষেপের চেষ্টা করে?',\n",
       " 'যুক্তরাষ্ট্র: ইউক্রেনে যুদ্ধ আর রাশিয়ার ওপর নিষেধাজ্ঞা প্রভাব ফেলছে দেশের অর্থনীতিতে',\n",
       " 'দেশি ফল: শরিফা কি বাংলাদেশের বাজারে সবচেয়ে দামী ও সংবেদনশীল ফল',\n",
       " 'নিম্নকক্ষ প্রতিনিধি পরিষদে রিপাবলিকানরা সংখ্যাগরিষ্ঠতা পেতে যাচ্ছে এমন আশঙ্কার মাঝে নেভাদায় একটি গুরুত্বপূর্ণ আসন জিতে মার্কিন সিনেটের সংখ্যাগরিষ্ঠ নিয়ন্ত্রণ ধরে রাখলো ডেমোক্রেটিক পার্টি।',\n",
       " 'আজ থেকে বিশ্বকাপ মিশন শুরু হচ্ছে আর্জেন্টিনার। কেমন খেলবে মনে হয়? আর আজকের বাকি ম্যাচগুলোতে কে জিতবে বলে মনে করছেন?\\n\\n#FIFAWorldCup #QatarWorldCup2022',\n",
       " 'রাশিয়া-ইউক্রেন যুদ্ধ: ইউরোপের গ্যাস পাইপলাইন অনির্দিষ্টকালের জন্য বন্ধ করেছে রাশিয়া',\n",
       " 'গত সোমবার ৩ অক্টোবর স্থানীয় সময় রাত আটটায় দেশটির পশ্চিম সেক্টরে বোয়ার এলাকায় মোতায়েন বাংলাদেশি সেনা ইউনিটটি এই হামলার মুখে পড়ে',\n",
       " 'এত প্রাণহানির কারণ খুঁজতে গিয়ে বিবিসি ডুবে যাওয়া ট্রলার থেকে বেঁচে ফেরা মানুষ, স্থানীয় মানুষ, দমকল, পুলিশ এবং স্থানীয় জনপ্রতিনিধিদের সাথে কথা বলেছে, তাতে কয়েকটি বিষয় উঠে এসেছে    https://bbc.com/bengali/news-63048009… #Bangladesh',\n",
       " 'ঘূর্ণিঝড় হিন্নামনর: দক্ষিণ কোরিয়ার ঝড়ের সময় জলোচ্ছ্বাসে কার পার্কে ডুবে ৭ জনের মৃত্যু',\n",
       " 'তালেবান: এক বছরে যেভাবে বদলে গেছে আফগান জনগণের জীবন',\n",
       " 'উত্তর কোরিয়া অন্তত দুই ডজন ক্ষেপণাস্ত্র ছোঁড়ার একদিন পর এই দাবি করলো সোল। একদিনে এত ক্ষেপণাস্ত্র ছোঁড়ার ঘটনা এই প্রথম।',\n",
       " 'টাঙ্গাইলে বাসে ডাকাতির দুই অভিযুক্তকে যেভাবে ধরা হলো',\n",
       " 'ভারতের দক্ষিণের রাজ্য কেরালায় পুলিশ মঙ্গলবার এক দম্পতিসহ তিনজনকে আটক করেছে। তাদের বিরুদ্ধে অভিযোগ দুজন নারীকে নির্যাতন করে হত্যা করেছেন তারা। আর এই হত্যার পেছনের মোটিভ যখন পুলিশ সামনে নিয়ে আসে, সেটা কেরালা তো বটেই পুরো ভারতে আলোড়ন ফেলে দেয়।',\n",
       " 'নাসার আর্টেমিস মিশন: ৫০ বছর পর যুক্তরাষ্ট্র কেন চাঁদে মানুষ পাঠাতে আগ্রহী হলো',\n",
       " 'https://bbc.com/bengali/news-63355822… \\nমিস্টার সুনাক দলের বেশ কিছু সিনিয়র নেতার সমর্থন পেয়েছেন। এর মধ্যে আছে সাবেক স্বাস্থ্যমন্ত্রী সাজিদ জাভেদ, নিরাপত্তা মন্ত্রী টম টুগেনডাট ও সাবেক স্বাস্থ্যমন্ত্রী ম্যাট হ্যানকক।',\n",
       " 'ডলারের উর্ধ্বগতিতে বিপদে বাংলাদেশের বহু মানুষ',\n",
       " 'আগুনের টর্নেডো দেখা গেল পতুর্গালে!    #Tornado #Portugal',\n",
       " 'বাংলাদেশে চালু হয়েছে সুপার স্পেশালাইজড হাসপাতাল, কী সুবিধা থাকছে -->  https://bbc.com/bengali/news-62902780… (১/৩) \\n\\n#Bangladesh #Health']"
      ]
     },
     "execution_count": 25,
     "metadata": {},
     "output_type": "execute_result"
    }
   ],
   "source": [
    "unique_post_texts"
   ]
  },
  {
   "cell_type": "code",
   "execution_count": null,
   "metadata": {},
   "outputs": [
    {
     "data": {
      "text/plain": [
       "19"
      ]
     },
     "execution_count": 33,
     "metadata": {},
     "output_type": "execute_result"
    }
   ],
   "source": [
    "len(unique_like_counts)"
   ]
  },
  {
   "cell_type": "code",
   "execution_count": null,
   "metadata": {},
   "outputs": [
    {
     "data": {
      "text/plain": [
       "11"
      ]
     },
     "execution_count": 26,
     "metadata": {},
     "output_type": "execute_result"
    }
   ],
   "source": [
    "all_tweets_dict = []\n",
    "\n",
    "for i, (url, time, text, comment_cnt, retweet_cnt, like_cnt\n",
    "    ) in enumerate(zip(\n",
    "        unique_post_urls, \n",
    "        unique_post_times, \n",
    "        unique_post_texts,\n",
    "        unique_comment_counts, \n",
    "        unique_retweet_counts, \n",
    "        unique_like_counts)\n",
    "    ):\n",
    "\n",
    "    i = i + 1\n",
    "    tweet_dict = {}\n",
    "\n",
    "    tweet_dict[\"id\"] = i\n",
    "    tweet_dict[\"post_url\"] = url\n",
    "    tweet_dict[\"post_time\"] = time\n",
    "    tweet_dict[\"post_text\"] = text\n",
    "    tweet_dict[\"comment_count\"] = comment_cnt\n",
    "    tweet_dict[\"retweet_count\"] = retweet_cnt\n",
    "    tweet_dict[\"like_count\"] = like_cnt\n",
    "\n",
    "    all_tweets_dict.append(tweet_dict)\n",
    "\n",
    "len(all_tweets_dict)"
   ]
  },
  {
   "cell_type": "code",
   "execution_count": null,
   "metadata": {},
   "outputs": [
    {
     "data": {
      "text/plain": [
       "[{'id': 1,\n",
       "  'post_url': 'https://twitter.com/bbcbangla/status/1570239917254676486',\n",
       "  'post_time': '2022-07-27T07:58:43.000Z',\n",
       "  'post_text': 'বাংলাদেশে হিন্দু সম্প্রদায়ের সবচেয়ে বড় ধর্মীয় উৎসব দুর্গাপূজায় এবার নিরাপত্তাকে সর্বোচ্চ গুরুত্ব দিয়ে শেষ পর্যায়ের প্রস্তুতি নেয়া হচ্ছে।',\n",
       "  'comment_count': '',\n",
       "  'retweet_count': '',\n",
       "  'like_count': ''},\n",
       " {'id': 2,\n",
       "  'post_url': 'https://twitter.com/bbcbangla/status/1559122657454526464',\n",
       "  'post_time': '2022-11-03T05:41:41.000Z',\n",
       "  'post_text': 'গত কয়েক মাসে একের পর এক যেসব নাটকীয় ঘটনা ঘটছিল, তাতে মনে হচ্ছিল, যে কোন সময় এই চুক্তি ভেস্তে যেতে পারে।',\n",
       "  'comment_count': '8',\n",
       "  'retweet_count': '8',\n",
       "  'like_count': '224'},\n",
       " {'id': 3,\n",
       "  'post_url': 'https://twitter.com/bbcbangla/status/1577483531366039552',\n",
       "  'post_time': '2022-10-14T03:12:36.000Z',\n",
       "  'post_text': 'পড়শি দেশের রাজনীতিতে ভারত কীভাবে আর কতটা হস্তক্ষেপের চেষ্টা করে?',\n",
       "  'comment_count': '7',\n",
       "  'retweet_count': '37',\n",
       "  'like_count': '232'},\n",
       " {'id': 4,\n",
       "  'post_url': 'https://twitter.com/bbcbangla/status/1566054495850827776',\n",
       "  'post_time': '2022-08-05T08:41:31.000Z',\n",
       "  'post_text': 'যুক্তরাষ্ট্র: ইউক্রেনে যুদ্ধ আর রাশিয়ার ওপর নিষেধাজ্ঞা প্রভাব ফেলছে দেশের অর্থনীতিতে',\n",
       "  'comment_count': '3',\n",
       "  'retweet_count': '7',\n",
       "  'like_count': '70'},\n",
       " {'id': 5,\n",
       "  'post_url': 'https://twitter.com/bbcbangla/status/1586231996568653824',\n",
       "  'post_time': '2022-08-05T07:09:03.000Z',\n",
       "  'post_text': 'দেশি ফল: শরিফা কি বাংলাদেশের বাজারে সবচেয়ে দামী ও সংবেদনশীল ফল',\n",
       "  'comment_count': '12',\n",
       "  'retweet_count': '13',\n",
       "  'like_count': '415'},\n",
       " {'id': 6,\n",
       "  'post_url': 'https://twitter.com/bbcbangla/status/1557244641396891651',\n",
       "  'post_time': '2022-09-14T10:27:25.000Z',\n",
       "  'post_text': 'নিম্নকক্ষ প্রতিনিধি পরিষদে রিপাবলিকানরা সংখ্যাগরিষ্ঠতা পেতে যাচ্ছে এমন আশঙ্কার মাঝে নেভাদায় একটি গুরুত্বপূর্ণ আসন জিতে মার্কিন সিনেটের সংখ্যাগরিষ্ঠ নিয়ন্ত্রণ ধরে রাখলো ডেমোক্রেটিক পার্টি।',\n",
       "  'comment_count': '1',\n",
       "  'retweet_count': '3',\n",
       "  'like_count': '72'},\n",
       " {'id': 7,\n",
       "  'post_url': 'https://twitter.com/bbcbangla/status/1555541009400053761',\n",
       "  'post_time': '2022-10-11T08:23:02.000Z',\n",
       "  'post_text': 'আজ থেকে বিশ্বকাপ মিশন শুরু হচ্ছে আর্জেন্টিনার। কেমন খেলবে মনে হয়? আর আজকের বাকি ম্যাচগুলোতে কে জিতবে বলে মনে করছেন?\\n\\n#FIFAWorldCup #QatarWorldCup2022',\n",
       "  'comment_count': '2',\n",
       "  'retweet_count': '1',\n",
       "  'like_count': '231'},\n",
       " {'id': 8,\n",
       "  'post_url': 'https://twitter.com/bbcbangla/status/1567497436549070848',\n",
       "  'post_time': '2022-10-04T11:15:57.000Z',\n",
       "  'post_text': 'রাশিয়া-ইউক্রেন যুদ্ধ: ইউরোপের গ্যাস পাইপলাইন অনির্দিষ্টকালের জন্য বন্ধ করেছে রাশিয়া',\n",
       "  'comment_count': '6',\n",
       "  'retweet_count': '2',\n",
       "  'like_count': '247'},\n",
       " {'id': 9,\n",
       "  'post_url': 'https://twitter.com/bbcbangla/status/1552317848894193667',\n",
       "  'post_time': '2022-09-21T07:15:17.000Z',\n",
       "  'post_text': 'গত সোমবার ৩ অক্টোবর স্থানীয় সময় রাত আটটায় দেশটির পশ্চিম সেক্টরে বোয়ার এলাকায় মোতায়েন বাংলাদেশি সেনা ইউনিটটি এই হামলার মুখে পড়ে',\n",
       "  'comment_count': '5',\n",
       "  'retweet_count': '6',\n",
       "  'like_count': '327'},\n",
       " {'id': 10,\n",
       "  'post_url': 'https://twitter.com/bbcbangla/status/1580758444503879680',\n",
       "  'post_time': '2022-09-03T04:11:23.000Z',\n",
       "  'post_text': 'এত প্রাণহানির কারণ খুঁজতে গিয়ে বিবিসি ডুবে যাওয়া ট্রলার থেকে বেঁচে ফেরা মানুষ, স্থানীয় মানুষ, দমকল, পুলিশ এবং স্থানীয় জনপ্রতিনিধিদের সাথে কথা বলেছে, তাতে কয়েকটি বিষয় উঠে এসেছে    https://bbc.com/bengali/news-63048009… #Bangladesh',\n",
       "  'comment_count': '9',\n",
       "  'retweet_count': '19',\n",
       "  'like_count': '105'},\n",
       " {'id': 11,\n",
       "  'post_url': 'https://twitter.com/bbcbangla/status/1594962185029320705',\n",
       "  'post_time': '2022-09-22T06:42:02.000Z',\n",
       "  'post_text': 'ঘূর্ণিঝড় হিন্নামনর: দক্ষিণ কোরিয়ার ঝড়ের সময় জলোচ্ছ্বাসে কার পার্কে ডুবে ৭ জনের মৃত্যু',\n",
       "  'comment_count': '4',\n",
       "  'retweet_count': '4',\n",
       "  'like_count': '427'}]"
      ]
     },
     "execution_count": 27,
     "metadata": {},
     "output_type": "execute_result"
    }
   ],
   "source": [
    "all_tweets_dict"
   ]
  },
  {
   "cell_type": "code",
   "execution_count": null,
   "metadata": {},
   "outputs": [],
   "source": [
    "import json\n",
    "\n",
    "with open(\"DATA.json\", \"w\") as output_file:\n",
    "    json.dump(all_tweets_dict, output_file, ensure_ascii=False)"
   ]
  },
  {
   "cell_type": "code",
   "execution_count": null,
   "metadata": {},
   "outputs": [],
   "source": [
    "import pandas as pd\n",
    "import sqlite3"
   ]
  },
  {
   "cell_type": "code",
   "execution_count": null,
   "metadata": {},
   "outputs": [
    {
     "data": {
      "text/html": [
       "<div>\n",
       "<style scoped>\n",
       "    .dataframe tbody tr th:only-of-type {\n",
       "        vertical-align: middle;\n",
       "    }\n",
       "\n",
       "    .dataframe tbody tr th {\n",
       "        vertical-align: top;\n",
       "    }\n",
       "\n",
       "    .dataframe thead th {\n",
       "        text-align: right;\n",
       "    }\n",
       "</style>\n",
       "<table border=\"1\" class=\"dataframe\">\n",
       "  <thead>\n",
       "    <tr style=\"text-align: right;\">\n",
       "      <th></th>\n",
       "      <th>post_urls</th>\n",
       "      <th>post_times</th>\n",
       "      <th>post_texts</th>\n",
       "      <th>comment_counts</th>\n",
       "      <th>retweet_counts</th>\n",
       "      <th>like_counts</th>\n",
       "    </tr>\n",
       "  </thead>\n",
       "  <tbody>\n",
       "    <tr>\n",
       "      <th>0</th>\n",
       "      <td>https://twitter.com/bbcbangla/status/157023991...</td>\n",
       "      <td>2022-07-27T07:58:43.000Z</td>\n",
       "      <td>বাংলাদেশে হিন্দু সম্প্রদায়ের সবচেয়ে বড় ধর্ম...</td>\n",
       "      <td></td>\n",
       "      <td></td>\n",
       "      <td></td>\n",
       "    </tr>\n",
       "    <tr>\n",
       "      <th>1</th>\n",
       "      <td>https://twitter.com/bbcbangla/status/155912265...</td>\n",
       "      <td>2022-11-03T05:41:41.000Z</td>\n",
       "      <td>গত কয়েক মাসে একের পর এক যেসব নাটকীয় ঘটনা ঘটছ...</td>\n",
       "      <td>8</td>\n",
       "      <td>8</td>\n",
       "      <td>224</td>\n",
       "    </tr>\n",
       "    <tr>\n",
       "      <th>2</th>\n",
       "      <td>https://twitter.com/bbcbangla/status/157748353...</td>\n",
       "      <td>2022-10-14T03:12:36.000Z</td>\n",
       "      <td>পড়শি দেশের রাজনীতিতে ভারত কীভাবে আর কতটা হস্ত...</td>\n",
       "      <td>7</td>\n",
       "      <td>37</td>\n",
       "      <td>232</td>\n",
       "    </tr>\n",
       "    <tr>\n",
       "      <th>3</th>\n",
       "      <td>https://twitter.com/bbcbangla/status/156605449...</td>\n",
       "      <td>2022-08-05T08:41:31.000Z</td>\n",
       "      <td>যুক্তরাষ্ট্র: ইউক্রেনে যুদ্ধ আর রাশিয়ার ওপর ন...</td>\n",
       "      <td>3</td>\n",
       "      <td>7</td>\n",
       "      <td>70</td>\n",
       "    </tr>\n",
       "    <tr>\n",
       "      <th>4</th>\n",
       "      <td>https://twitter.com/bbcbangla/status/158623199...</td>\n",
       "      <td>2022-08-05T07:09:03.000Z</td>\n",
       "      <td>দেশি ফল: শরিফা কি বাংলাদেশের বাজারে সবচেয়ে দা...</td>\n",
       "      <td>12</td>\n",
       "      <td>13</td>\n",
       "      <td>415</td>\n",
       "    </tr>\n",
       "  </tbody>\n",
       "</table>\n",
       "</div>"
      ],
      "text/plain": [
       "                                           post_urls  \\\n",
       "0  https://twitter.com/bbcbangla/status/157023991...   \n",
       "1  https://twitter.com/bbcbangla/status/155912265...   \n",
       "2  https://twitter.com/bbcbangla/status/157748353...   \n",
       "3  https://twitter.com/bbcbangla/status/156605449...   \n",
       "4  https://twitter.com/bbcbangla/status/158623199...   \n",
       "\n",
       "                 post_times  \\\n",
       "0  2022-07-27T07:58:43.000Z   \n",
       "1  2022-11-03T05:41:41.000Z   \n",
       "2  2022-10-14T03:12:36.000Z   \n",
       "3  2022-08-05T08:41:31.000Z   \n",
       "4  2022-08-05T07:09:03.000Z   \n",
       "\n",
       "                                          post_texts comment_counts  \\\n",
       "0  বাংলাদেশে হিন্দু সম্প্রদায়ের সবচেয়ে বড় ধর্ম...                  \n",
       "1  গত কয়েক মাসে একের পর এক যেসব নাটকীয় ঘটনা ঘটছ...              8   \n",
       "2  পড়শি দেশের রাজনীতিতে ভারত কীভাবে আর কতটা হস্ত...              7   \n",
       "3  যুক্তরাষ্ট্র: ইউক্রেনে যুদ্ধ আর রাশিয়ার ওপর ন...              3   \n",
       "4  দেশি ফল: শরিফা কি বাংলাদেশের বাজারে সবচেয়ে দা...             12   \n",
       "\n",
       "  retweet_counts like_counts  \n",
       "0                             \n",
       "1              8         224  \n",
       "2             37         232  \n",
       "3              7          70  \n",
       "4             13         415  "
      ]
     },
     "execution_count": 37,
     "metadata": {},
     "output_type": "execute_result"
    }
   ],
   "source": [
    "df = pd.DataFrame(zip(\n",
    "        unique_post_urls, \n",
    "        unique_post_times, \n",
    "        unique_post_texts,\n",
    "        unique_comment_counts, \n",
    "        unique_retweet_counts, \n",
    "        unique_like_counts)\n",
    "            ,columns=['post_urls','post_times','post_texts','comment_counts','retweet_counts','like_counts'])\n",
    "\n",
    "df.head()\n",
    "\n"
   ]
  },
  {
   "cell_type": "code",
   "execution_count": null,
   "metadata": {},
   "outputs": [],
   "source": [
    "df.to_excel(\"twitter_data.xlsx\", index=False)"
   ]
  },
  {
   "cell_type": "code",
   "execution_count": null,
   "metadata": {},
   "outputs": [],
   "source": [
    "twitter_data = pd.read_excel('twitter_data.xlsx', header=0)"
   ]
  },
  {
   "cell_type": "code",
   "execution_count": null,
   "metadata": {},
   "outputs": [],
   "source": [
    "db_conn = sqlite3.connect(\"twitter_data.db\")"
   ]
  },
  {
   "cell_type": "code",
   "execution_count": null,
   "metadata": {},
   "outputs": [],
   "source": [
    "\n",
    "cur = db_conn.cursor()"
   ]
  },
  {
   "cell_type": "code",
   "execution_count": null,
   "metadata": {
    "vscode": {
     "languageId": "sql"
    }
   },
   "outputs": [],
   "source": [
    "cur.execute (\n",
    "    \"\"\"\n",
    "    CREATE TABLE twitter_data (\n",
    "        post_urls TEXT NOT NULL,\n",
    "        post_times TEXT NOT NULL,\n",
    "        post_texts TEXT NOT NULL,\n",
    "        comment_counts INTEGER,\n",
    "        retweet_counts INTEGER,\n",
    "        like_counts INTEGER,\n",
    "    );\n",
    "\n",
    "    \"\"\"\n",
    ")\n",
    "\n"
   ]
  },
  {
   "cell_type": "code",
   "execution_count": null,
   "metadata": {
    "vscode": {
     "languageId": "sql"
    }
   },
   "outputs": [
    {
     "data": {
      "text/plain": [
       "11"
      ]
     },
     "execution_count": 62,
     "metadata": {},
     "output_type": "execute_result"
    }
   ],
   "source": [
    "\n",
    "twitter_data.to_sql('twitter_data', db_conn, if_exists='append', index=False)"
   ]
  }
 ],
 "metadata": {
  "kernelspec": {
   "display_name": "Python 3.10.6 ('scrapping-psYF8u0W')",
   "language": "python",
   "name": "python3"
  },
  "language_info": {
   "codemirror_mode": {
    "name": "ipython",
    "version": 3
   },
   "file_extension": ".py",
   "mimetype": "text/x-python",
   "name": "python",
   "nbconvert_exporter": "python",
   "pygments_lexer": "ipython3",
   "version": "3.10.6"
  },
  "orig_nbformat": 4,
  "vscode": {
   "interpreter": {
    "hash": "0ddd674a3f138a3d0a35820586754771292252907f0a9d2f7d24c603efeb8798"
   }
  }
 },
 "nbformat": 4,
 "nbformat_minor": 2
}
